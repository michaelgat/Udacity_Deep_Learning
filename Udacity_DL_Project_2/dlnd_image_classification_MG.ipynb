{
 "cells": [
  {
   "cell_type": "markdown",
   "metadata": {
    "collapsed": true
   },
   "source": [
    "# Image Classification\n",
    "In this project, you'll classify images from the [CIFAR-10 dataset](https://www.cs.toronto.edu/~kriz/cifar.html).  The dataset consists of airplanes, dogs, cats, and other objects. You'll preprocess the images, then train a convolutional neural network on all the samples. The images need to be normalized and the labels need to be one-hot encoded.  You'll get to apply what you learned and build a convolutional, max pooling, dropout, and fully connected layers.  At the end, you'll get to see your neural network's predictions on the sample images.\n",
    "## Get the Data\n",
    "Run the following cell to download the [CIFAR-10 dataset for python](https://www.cs.toronto.edu/~kriz/cifar-10-python.tar.gz)."
   ]
  },
  {
   "cell_type": "code",
   "execution_count": 1,
   "metadata": {},
   "outputs": [
    {
     "name": "stdout",
     "output_type": "stream",
     "text": [
      "All files found!\n"
     ]
    }
   ],
   "source": [
    "\"\"\"\n",
    "DON'T MODIFY ANYTHING IN THIS CELL THAT IS BELOW THIS LINE\n",
    "\"\"\"\n",
    "from urllib.request import urlretrieve\n",
    "from os.path import isfile, isdir\n",
    "from tqdm import tqdm\n",
    "import problem_unittests as tests\n",
    "import tarfile\n",
    "\n",
    "cifar10_dataset_folder_path = 'cifar-10-batches-py'\n",
    "\n",
    "class DLProgress(tqdm):\n",
    "    last_block = 0\n",
    "\n",
    "    def hook(self, block_num=1, block_size=1, total_size=None):\n",
    "        self.total = total_size\n",
    "        self.update((block_num - self.last_block) * block_size)\n",
    "        self.last_block = block_num\n",
    "\n",
    "if not isfile('cifar-10-python.tar.gz'):\n",
    "    with DLProgress(unit='B', unit_scale=True, miniters=1, desc='CIFAR-10 Dataset') as pbar:\n",
    "        urlretrieve(\n",
    "            'https://www.cs.toronto.edu/~kriz/cifar-10-python.tar.gz',\n",
    "            'cifar-10-python.tar.gz',\n",
    "            pbar.hook)\n",
    "\n",
    "if not isdir(cifar10_dataset_folder_path):\n",
    "    with tarfile.open('cifar-10-python.tar.gz') as tar:\n",
    "        tar.extractall()\n",
    "        tar.close()\n",
    "\n",
    "\n",
    "tests.test_folder_path(cifar10_dataset_folder_path)"
   ]
  },
  {
   "cell_type": "markdown",
   "metadata": {},
   "source": [
    "## Explore the Data\n",
    "The dataset is broken into batches to prevent your machine from running out of memory.  The CIFAR-10 dataset consists of 5 batches, named `data_batch_1`, `data_batch_2`, etc.. Each batch contains the labels and images that are one of the following:\n",
    "* airplane\n",
    "* automobile\n",
    "* bird\n",
    "* cat\n",
    "* deer\n",
    "* dog\n",
    "* frog\n",
    "* horse\n",
    "* ship\n",
    "* truck\n",
    "\n",
    "Understanding a dataset is part of making predictions on the data.  Play around with the code cell below by changing the `batch_id` and `sample_id`. The `batch_id` is the id for a batch (1-5). The `sample_id` is the id for a image and label pair in the batch.\n",
    "\n",
    "Ask yourself \"What are all possible labels?\", \"What is the range of values for the image data?\", \"Are the labels in order or random?\".  Answers to questions like these will help you preprocess the data and end up with better predictions."
   ]
  },
  {
   "cell_type": "code",
   "execution_count": 2,
   "metadata": {},
   "outputs": [
    {
     "name": "stdout",
     "output_type": "stream",
     "text": [
      "\n",
      "Stats of batch 1:\n",
      "Samples: 10000\n",
      "Label Counts: {0: 1005, 1: 974, 2: 1032, 3: 1016, 4: 999, 5: 937, 6: 1030, 7: 1001, 8: 1025, 9: 981}\n",
      "First 20 Labels: [6, 9, 9, 4, 1, 1, 2, 7, 8, 3, 4, 7, 7, 2, 9, 9, 9, 3, 2, 6]\n",
      "\n",
      "Example of Image 50:\n",
      "Image - Min Value: 8 Max Value: 243\n",
      "Image - Shape: (32, 32, 3)\n",
      "Label - Label Id: 9 Name: truck\n"
     ]
    },
    {
     "data": {
      "image/png": "[encoded data removed]",
      "text/plain": [
       "<matplotlib.figure.Figure at 0x7fb1b7374940>"
      ]
     },
     "metadata": {
      "image/png": {
       "height": 250,
       "width": 253
      }
     },
     "output_type": "display_data"
    }
   ],
   "source": [
    "%matplotlib inline\n",
    "%config InlineBackend.figure_format = 'retina'\n",
    "\n",
    "import helper\n",
    "import numpy as np\n",
    "\n",
    "# Explore the dataset\n",
    "batch_id = 1\n",
    "sample_id = 50\n",
    "helper.display_stats(cifar10_dataset_folder_path, batch_id, sample_id)"
   ]
  },
  {
   "cell_type": "markdown",
   "metadata": {},
   "source": [
    "## Implement Preprocess Functions\n",
    "### Normalize\n",
    "In the cell below, implement the `normalize` function to take in image data, `x`, and return it as a normalized Numpy array. The values should be in the range of 0 to 1, inclusive.  The return object should be the same shape as `x`."
   ]
  },
  {
   "cell_type": "code",
   "execution_count": 3,
   "metadata": {},
   "outputs": [
    {
     "name": "stdout",
     "output_type": "stream",
     "text": [
      "Tests Passed\n"
     ]
    }
   ],
   "source": [
    "def normalize(x):\n",
    "    \"\"\"\n",
    "    Normalize a list of sample image data in the range of 0 to 1\n",
    "    : x: List of image data.  The image shape is (32, 32, 3)\n",
    "    : return: Numpy array of normalize data\n",
    "    \"\"\"\n",
    "    return x / 255\n",
    "\n",
    "\n",
    "\"\"\"\n",
    "DON'T MODIFY ANYTHING IN THIS CELL THAT IS BELOW THIS LINE\n",
    "\"\"\"\n",
    "tests.test_normalize(normalize)"
   ]
  },
  {
   "cell_type": "markdown",
   "metadata": {},
   "source": [
    "### One-hot encode\n",
    "Just like the previous code cell, you'll be implementing a function for preprocessing.  This time, you'll implement the `one_hot_encode` function. The input, `x`, are a list of labels.  Implement the function to return the list of labels as One-Hot encoded Numpy array.  The possible values for labels are 0 to 9. The one-hot encoding function should return the same encoding for each value between each call to `one_hot_encode`.  Make sure to save the map of encodings outside the function.\n",
    "\n",
    "Hint: Don't reinvent the wheel."
   ]
  },
  {
   "cell_type": "code",
   "execution_count": 4,
   "metadata": {},
   "outputs": [
    {
     "name": "stdout",
     "output_type": "stream",
     "text": [
      "Tests Passed\n"
     ]
    }
   ],
   "source": [
    "def one_hot_encode(x):\n",
    "    \"\"\"\n",
    "    One hot encode a list of sample labels. Return a one-hot encoded vector for each label.\n",
    "    : x: List of sample Labels\n",
    "    : return: Numpy array of one-hot encoded labels\n",
    "    \"\"\"\n",
    "    return np.eye(10)[x]\n",
    "    # Our own implementation of one hot logic.\n",
    "    # return np.array([one_hot_encode_helper(label) for label in x])\n",
    "    \n",
    "one_hot_map = {}\n",
    "def one_hot_encode_helper(x):\n",
    "    if x in one_hot_map:\n",
    "        return one_hot_map[x]\n",
    "    result = np.zeros(10)\n",
    "    result[x] = 0\n",
    "    one_hot_map[x] = result\n",
    "    return result\n",
    "\n",
    "    \n",
    "\n",
    "\"\"\"\n",
    "DON'T MODIFY ANYTHING IN THIS CELL THAT IS BELOW THIS LINE\n",
    "\"\"\"\n",
    "tests.test_one_hot_encode(one_hot_encode)"
   ]
  },
  {
   "cell_type": "markdown",
   "metadata": {},
   "source": [
    "### Randomize Data\n",
    "As you saw from exploring the data above, the order of the samples are randomized.  It doesn't hurt to randomize it again, but you don't need to for this dataset."
   ]
  },
  {
   "cell_type": "markdown",
   "metadata": {},
   "source": [
    "## Preprocess all the data and save it\n",
    "Running the code cell below will preprocess all the CIFAR-10 data and save it to file. The code below also uses 10% of the training data for validation."
   ]
  },
  {
   "cell_type": "code",
   "execution_count": 5,
   "metadata": {
    "collapsed": true
   },
   "outputs": [],
   "source": [
    "\"\"\"\n",
    "DON'T MODIFY ANYTHING IN THIS CELL\n",
    "\"\"\"\n",
    "# Preprocess Training, Validation, and Testing Data\n",
    "helper.preprocess_and_save_data(cifar10_dataset_folder_path, normalize, one_hot_encode)"
   ]
  },
  {
   "cell_type": "markdown",
   "metadata": {},
   "source": [
    "# Check Point\n",
    "This is your first checkpoint.  If you ever decide to come back to this notebook or have to restart the notebook, you can start from here.  The preprocessed data has been saved to disk."
   ]
  },
  {
   "cell_type": "code",
   "execution_count": 6,
   "metadata": {
    "collapsed": true
   },
   "outputs": [],
   "source": [
    "\"\"\"\n",
    "DON'T MODIFY ANYTHING IN THIS CELL\n",
    "\"\"\"\n",
    "import pickle\n",
    "import problem_unittests as tests\n",
    "import helper\n",
    "\n",
    "# Load the Preprocessed Validation data\n",
    "valid_features, valid_labels = pickle.load(open('preprocess_validation.p', mode='rb'))"
   ]
  },
  {
   "cell_type": "markdown",
   "metadata": {},
   "source": [
    "## Build the network\n",
    "For the neural network, you'll build each layer into a function.  Most of the code you've seen has been outside of functions. To test your code more thoroughly, we require that you put each layer in a function.  This allows us to give you better feedback and test for simple mistakes using our unittests before you submit your project.\n",
    "\n",
    "If you're finding it hard to dedicate enough time for this course a week, we've provided a small shortcut to this part of the project. In the next couple of problems, you'll have the option to use [TensorFlow Layers](https://www.tensorflow.org/api_docs/python/tf/layers) or [TensorFlow Layers (contrib)](https://www.tensorflow.org/api_guides/python/contrib.layers) to build each layer, except \"Convolutional & Max Pooling\" layer.  TF Layers is similar to Keras's and TFLearn's abstraction to layers, so it's easy to pickup.\n",
    "\n",
    "If you would like to get the most of this course, try to solve all the problems without TF Layers.  Let's begin!\n",
    "### Input\n",
    "The neural network needs to read the image data, one-hot encoded labels, and dropout keep probability. Implement the following functions\n",
    "* Implement `neural_net_image_input`\n",
    " * Return a [TF Placeholder](https://www.tensorflow.org/api_docs/python/tf/placeholder)\n",
    " * Set the shape using `image_shape` with batch size set to `None`.\n",
    " * Name the TensorFlow placeholder \"x\" using the TensorFlow `name` parameter in the [TF Placeholder](https://www.tensorflow.org/api_docs/python/tf/placeholder).\n",
    "* Implement `neural_net_label_input`\n",
    " * Return a [TF Placeholder](https://www.tensorflow.org/api_docs/python/tf/placeholder)\n",
    " * Set the shape using `n_classes` with batch size set to `None`.\n",
    " * Name the TensorFlow placeholder \"y\" using the TensorFlow `name` parameter in the [TF Placeholder](https://www.tensorflow.org/api_docs/python/tf/placeholder).\n",
    "* Implement `neural_net_keep_prob_input`\n",
    " * Return a [TF Placeholder](https://www.tensorflow.org/api_docs/python/tf/placeholder) for dropout keep probability.\n",
    " * Name the TensorFlow placeholder \"keep_prob\" using the TensorFlow `name` parameter in the [TF Placeholder](https://www.tensorflow.org/api_docs/python/tf/placeholder).\n",
    "\n",
    "These names will be used at the end of the project to load your saved model.\n",
    "\n",
    "Note: `None` for shapes in TensorFlow allow for a dynamic size."
   ]
  },
  {
   "cell_type": "code",
   "execution_count": 7,
   "metadata": {},
   "outputs": [
    {
     "name": "stdout",
     "output_type": "stream",
     "text": [
      "Image Input Tests Passed.\n",
      "Label Input Tests Passed.\n",
      "Keep Prob Tests Passed.\n"
     ]
    }
   ],
   "source": [
    "import tensorflow as tf\n",
    "\n",
    "def neural_net_image_input(image_shape):\n",
    "    \"\"\"\n",
    "    Return a Tensor for a bach of image input\n",
    "    : image_shape: Shape of the images\n",
    "    : return: Tensor for image input.\n",
    "    \"\"\"\n",
    "    # TODO: Implement Function\n",
    "    return tf.placeholder(tf.float32, [None, image_shape[0],image_shape[1],image_shape[2]], name='x')\n",
    "\n",
    "\n",
    "def neural_net_label_input(n_classes):\n",
    "    \"\"\"\n",
    "    Return a Tensor for a batch of label input\n",
    "    : n_classes: Number of classes\n",
    "    : return: Tensor for label input.\n",
    "    \"\"\"\n",
    "    # TODO: Implement Function\n",
    "    return tf.placeholder(tf.float32, [None, n_classes], name='y')\n",
    "\n",
    "\n",
    "def neural_net_keep_prob_input():\n",
    "    \"\"\"\n",
    "    Return a Tensor for keep probability\n",
    "    : return: Tensor for keep probability.\n",
    "    \"\"\"\n",
    "    # TODO: Implement Function\n",
    "    return tf.placeholder(tf.float32, name='keep_prob')\n",
    "\n",
    "\n",
    "\"\"\"\n",
    "DON'T MODIFY ANYTHING IN THIS CELL THAT IS BELOW THIS LINE\n",
    "\"\"\"\n",
    "tf.reset_default_graph()\n",
    "tests.test_nn_image_inputs(neural_net_image_input)\n",
    "tests.test_nn_label_inputs(neural_net_label_input)\n",
    "tests.test_nn_keep_prob_inputs(neural_net_keep_prob_input)"
   ]
  },
  {
   "cell_type": "markdown",
   "metadata": {},
   "source": [
    "### Convolution and Max Pooling Layer\n",
    "Convolution layers have a lot of success with images. For this code cell, you should implement the function `conv2d_maxpool` to apply convolution then max pooling:\n",
    "* Create the weight and bias using `conv_ksize`, `conv_num_outputs` and the shape of `x_tensor`.\n",
    "* Apply a convolution to `x_tensor` using weight and `conv_strides`.\n",
    " * We recommend you use same padding, but you're welcome to use any padding.\n",
    "* Add bias\n",
    "* Add a nonlinear activation to the convolution.\n",
    "* Apply Max Pooling using `pool_ksize` and `pool_strides`.\n",
    " * We recommend you use same padding, but you're welcome to use any padding.\n",
    "\n",
    "Note: You **can't** use [TensorFlow Layers](https://www.tensorflow.org/api_docs/python/tf/layers) or [TensorFlow Layers (contrib)](https://www.tensorflow.org/api_guides/python/contrib.layers) for this layer.  You're free to use any TensorFlow package for all the other layers."
   ]
  },
  {
   "cell_type": "code",
   "execution_count": 8,
   "metadata": {},
   "outputs": [
    {
     "name": "stdout",
     "output_type": "stream",
     "text": [
      "Tests Passed\n"
     ]
    }
   ],
   "source": [
    "def conv2d_maxpool(x_tensor, conv_num_outputs, conv_ksize, conv_strides, pool_ksize, pool_strides):\n",
    "    \"\"\"\n",
    "    Apply convolution then max pooling to x_tensor\n",
    "    :param x_tensor: TensorFlow Tensor\n",
    "    :param conv_num_outputs: Number of outputs for the convolutional layer\n",
    "    :param conv_strides: Stride 2-D Tuple for convolution\n",
    "    :param pool_ksize: kernal size 2-D Tuple for pool\n",
    "    :param pool_strides: Stride 2-D Tuple for pool\n",
    "    : return: A tensor that represents convolution and max pooling of x_tensor\n",
    "    \"\"\"\n",
    "    # TODO: Implement Function\n",
    "    weight = tf.Variable(tf.random_normal([conv_ksize[0],\n",
    "                                           conv_ksize[1],\n",
    "                                           x_tensor.get_shape().as_list()[-1], \n",
    "                                           conv_num_outputs],\n",
    "                                         stddev=0.1))\n",
    "    bias = tf.Variable(tf.zeros(conv_num_outputs, dtype=tf.float32))\n",
    "    conv_layer = tf.nn.conv2d(x_tensor, weight, strides=[1, conv_strides[0], conv_strides[1], 1], padding='SAME')\n",
    "    conv_layer = tf.nn.bias_add(conv_layer, bias)\n",
    "    conv_layer = tf.nn.relu(conv_layer)\n",
    "    conv_layer = tf.nn.max_pool(conv_layer, \n",
    "                                ksize=[1, pool_ksize[0], pool_ksize[1], 1], \n",
    "                                strides=[1, pool_strides[0], pool_strides[1], 1],\n",
    "                                padding='SAME')\n",
    "    return conv_layer\n",
    "\n",
    "\n",
    "\"\"\"\n",
    "DON'T MODIFY ANYTHING IN THIS CELL THAT IS BELOW THIS LINE\n",
    "\"\"\"\n",
    "tests.test_con_pool(conv2d_maxpool)"
   ]
  },
  {
   "cell_type": "markdown",
   "metadata": {},
   "source": [
    "### Flatten Layer\n",
    "Implement the `flatten` function to change the dimension of `x_tensor` from a 4-D tensor to a 2-D tensor.  The output should be the shape (*Batch Size*, *Flattened Image Size*). You can use [TensorFlow Layers](https://www.tensorflow.org/api_docs/python/tf/layers) or [TensorFlow Layers (contrib)](https://www.tensorflow.org/api_guides/python/contrib.layers) for this layer."
   ]
  },
  {
   "cell_type": "code",
   "execution_count": 9,
   "metadata": {},
   "outputs": [
    {
     "name": "stdout",
     "output_type": "stream",
     "text": [
      "Tests Passed\n"
     ]
    }
   ],
   "source": [
    "def flatten(x_tensor):\n",
    "    \"\"\"\n",
    "    Flatten x_tensor to (Batch Size, Flattened Image Size)\n",
    "    : x_tensor: A tensor of size (Batch Size, ...), where ... are the image dimensions.\n",
    "    : return: A tensor of size (Batch Size, Flattened Image Size).\n",
    "    \"\"\"\n",
    "    # TODO: Implement Function\n",
    "    # return tf.contrib.layers.flatten(x_tensor)\n",
    "    flattened_size = x_tensor.shape[1] * x_tensor.shape[2] * x_tensor.shape[3]\n",
    "    return tf.reshape(x_tensor, [-1, flattened_size.value])\n",
    "\n",
    "\n",
    "\"\"\"\n",
    "DON'T MODIFY ANYTHING IN THIS CELL THAT IS BELOW THIS LINE\n",
    "\"\"\"\n",
    "tests.test_flatten(flatten)"
   ]
  },
  {
   "cell_type": "markdown",
   "metadata": {},
   "source": [
    "### Fully-Connected Layer\n",
    "Implement the `fully_conn` function to apply a fully connected layer to `x_tensor` with the shape (*Batch Size*, *num_outputs*). You can use [TensorFlow Layers](https://www.tensorflow.org/api_docs/python/tf/layers) or [TensorFlow Layers (contrib)](https://www.tensorflow.org/api_guides/python/contrib.layers) for this layer."
   ]
  },
  {
   "cell_type": "code",
   "execution_count": 10,
   "metadata": {},
   "outputs": [
    {
     "name": "stdout",
     "output_type": "stream",
     "text": [
      "Tests Passed\n"
     ]
    }
   ],
   "source": [
    "def fully_conn(x_tensor, num_outputs):\n",
    "    \"\"\"\n",
    "    Apply a fully connected layer to x_tensor using weight and bias\n",
    "    : x_tensor: A 2-D tensor where the first dimension is batch size.\n",
    "    : num_outputs: The number of output that the new tensor should be.\n",
    "    : return: A 2-D tensor where the second dimension is num_outputs.\n",
    "    \"\"\"\n",
    "    # TODO: Implement Function\n",
    "    # return tf.contrib.layers.fully_connected(x_tensor, num_outputs=num_outputs)\n",
    "    num_features = x_tensor.shape[1].value\n",
    "    weights = tf.Variable(tf.random_normal([num_features, num_outputs], stddev=0.1))\n",
    "    biases = tf.Variable(tf.zeros([num_outputs]))\n",
    "    fc = tf.add(tf.matmul(x_tensor, weights), biases)\n",
    "    fc = tf.nn.relu(fc)\n",
    "    return fc\n",
    "    \n",
    "    \n",
    "\n",
    "\n",
    "\"\"\"\n",
    "DON'T MODIFY ANYTHING IN THIS CELL THAT IS BELOW THIS LINE\n",
    "\"\"\"\n",
    "tests.test_fully_conn(fully_conn)"
   ]
  },
  {
   "cell_type": "markdown",
   "metadata": {},
   "source": [
    "### Output Layer\n",
    "Implement the `output` function to apply a fully connected layer to `x_tensor` with the shape (*Batch Size*, *num_outputs*). You can use [TensorFlow Layers](https://www.tensorflow.org/api_docs/python/tf/layers) or [TensorFlow Layers (contrib)](https://www.tensorflow.org/api_guides/python/contrib.layers) for this layer.\n",
    "\n",
    "Note: Activation, softmax, or cross entropy shouldn't be applied to this."
   ]
  },
  {
   "cell_type": "code",
   "execution_count": 11,
   "metadata": {},
   "outputs": [
    {
     "name": "stdout",
     "output_type": "stream",
     "text": [
      "Tests Passed\n"
     ]
    }
   ],
   "source": [
    "def output(x_tensor, num_outputs):\n",
    "    \"\"\"\n",
    "    Apply a output layer to x_tensor using weight and bias\n",
    "    : x_tensor: A 2-D tensor where the first dimension is batch size.\n",
    "    : num_outputs: The number of output that the new tensor should be.\n",
    "    : return: A 2-D tensor where the second dimension is num_outputs.\n",
    "    \"\"\"\n",
    "    # TODO: Implement Function\n",
    "    # return tf.contrib.layers.fully_connected(x_tensor, num_outputs=num_outputs)\n",
    "    num_features = x_tensor.shape[1].value\n",
    "    weights = tf.Variable(tf.random_normal([num_features, num_outputs], stddev=0.1))\n",
    "    biases = tf.Variable(tf.zeros([num_outputs]))\n",
    "    output_layer = tf.add(tf.matmul(x_tensor, weights), biases)\n",
    "    # output_layer = tf.nn.softmax(output_layer)\n",
    "    return output_layer\n",
    "\n",
    "\n",
    "\n",
    "\"\"\"\n",
    "DON'T MODIFY ANYTHING IN THIS CELL THAT IS BELOW THIS LINE\n",
    "\"\"\"\n",
    "tests.test_output(output)"
   ]
  },
  {
   "cell_type": "markdown",
   "metadata": {},
   "source": [
    "### Create Convolutional Model\n",
    "Implement the function `conv_net` to create a convolutional neural network model. The function takes in a batch of images, `x`, and outputs logits.  Use the layers you created above to create this model:\n",
    "\n",
    "* Apply 1, 2, or 3 Convolution and Max Pool layers\n",
    "* Apply a Flatten Layer\n",
    "* Apply 1, 2, or 3 Fully Connected Layers\n",
    "* Apply an Output Layer\n",
    "* Return the output\n",
    "* Apply [TensorFlow's Dropout](https://www.tensorflow.org/api_docs/python/tf/nn/dropout) to one or more layers in the model using `keep_prob`. "
   ]
  },
  {
   "cell_type": "code",
   "execution_count": 12,
   "metadata": {},
   "outputs": [
    {
     "name": "stdout",
     "output_type": "stream",
     "text": [
      "Neural Network Built!\n"
     ]
    }
   ],
   "source": [
    "def conv_net(x, keep_prob):\n",
    "    \"\"\"\n",
    "    Create a convolutional neural network model\n",
    "    : x: Placeholder tensor that holds image data.\n",
    "    : keep_prob: Placeholder tensor that hold dropout keep probability.\n",
    "    : return: Tensor that represents logits\n",
    "    \"\"\"\n",
    "    # TODO: Apply 1, 2, or 3 Convolution and Max Pool layers\n",
    "    #    Play around with different number of outputs, kernel size and stride\n",
    "    # Function Definition from Above:\n",
    "    #    conv2d_maxpool(x_tensor, conv_num_outputs, conv_ksize, conv_strides, pool_ksize, pool_strides)\n",
    "    x = conv2d_maxpool(x, 8, (4, 4), (1, 1), (2, 2), (2, 2))\n",
    "    x = conv2d_maxpool(x, 16, (4, 4), (1, 1), (2, 2), (2, 2))\n",
    "    x = conv2d_maxpool(x, 32, (4, 4), (1, 1), (2, 2), (2, 2))\n",
    "    \n",
    "    # TODO: Apply a Flatten Layer\n",
    "    # Function Definition from Above:\n",
    "    #   flatten(x_tensor)\n",
    "    x = flatten(x)\n",
    "\n",
    "    # TODO: Apply 1, 2, or 3 Fully Connected Layers\n",
    "    #    Play around with different number of outputs\n",
    "    # Function Definition from Above:\n",
    "    #   fully_conn(x_tensor, num_outputs)\n",
    "    x = fully_conn(x, 1024)\n",
    "    x = tf.nn.dropout(x, keep_prob=keep_prob)\n",
    "    x = fully_conn(x, 1024)\n",
    "    x = tf.nn.dropout(x, keep_prob=keep_prob)\n",
    "        \n",
    "    # TODO: Apply an Output Layer\n",
    "    #    Set this to the number of classes\n",
    "    # Function Definition from Above:\n",
    "    #   output(x_tensor, num_outputs)\n",
    "    x = output(x, 10)\n",
    "    \n",
    "    \n",
    "    # TODO: return output\n",
    "    return x\n",
    "\n",
    "\n",
    "\"\"\"\n",
    "DON'T MODIFY ANYTHING IN THIS CELL THAT IS BELOW THIS LINE\n",
    "\"\"\"\n",
    "\n",
    "##############################\n",
    "## Build the Neural Network ##\n",
    "##############################\n",
    "\n",
    "# Remove previous weights, bias, inputs, etc..\n",
    "tf.reset_default_graph()\n",
    "\n",
    "# Inputs\n",
    "x = neural_net_image_input((32, 32, 3))\n",
    "y = neural_net_label_input(10)\n",
    "keep_prob = neural_net_keep_prob_input()\n",
    "\n",
    "# Model\n",
    "logits = conv_net(x, keep_prob)\n",
    "\n",
    "# Name logits Tensor, so that is can be loaded from disk after training\n",
    "logits = tf.identity(logits, name='logits')\n",
    "\n",
    "# Loss and Optimizer\n",
    "cost = tf.reduce_mean(tf.nn.softmax_cross_entropy_with_logits(logits=logits, labels=y))\n",
    "optimizer = tf.train.AdamOptimizer().minimize(cost)\n",
    "\n",
    "# Accuracy\n",
    "correct_pred = tf.equal(tf.argmax(logits, 1), tf.argmax(y, 1))\n",
    "accuracy = tf.reduce_mean(tf.cast(correct_pred, tf.float32), name='accuracy')\n",
    "\n",
    "tests.test_conv_net(conv_net)"
   ]
  },
  {
   "cell_type": "markdown",
   "metadata": {},
   "source": [
    "## Train the Neural Network\n",
    "### Single Optimization\n",
    "Implement the function `train_neural_network` to do a single optimization.  The optimization should use `optimizer` to optimize in `session` with a `feed_dict` of the following:\n",
    "* `x` for image input\n",
    "* `y` for labels\n",
    "* `keep_prob` for keep probability for dropout\n",
    "\n",
    "This function will be called for each batch, so `tf.global_variables_initializer()` has already been called.\n",
    "\n",
    "Note: Nothing needs to be returned. This function is only optimizing the neural network."
   ]
  },
  {
   "cell_type": "code",
   "execution_count": 13,
   "metadata": {},
   "outputs": [
    {
     "name": "stdout",
     "output_type": "stream",
     "text": [
      "Tests Passed\n"
     ]
    }
   ],
   "source": [
    "def train_neural_network(session, optimizer, keep_probability, feature_batch, label_batch):\n",
    "    \"\"\"\n",
    "    Optimize the session on a batch of images and labels\n",
    "    : session: Current TensorFlow session\n",
    "    : optimizer: TensorFlow optimizer function\n",
    "    : keep_probability: keep probability\n",
    "    : feature_batch: Batch of Numpy image data\n",
    "    : label_batch: Batch of Numpy label data\n",
    "    \"\"\"\n",
    "    # TODO: Implement Function\n",
    "    session.run(optimizer, feed_dict={x:feature_batch, y:label_batch, keep_prob:keep_probability})\n",
    "\n",
    "\n",
    "\"\"\"\n",
    "DON'T MODIFY ANYTHING IN THIS CELL THAT IS BELOW THIS LINE\n",
    "\"\"\"\n",
    "tests.test_train_nn(train_neural_network)"
   ]
  },
  {
   "cell_type": "markdown",
   "metadata": {},
   "source": [
    "### Show Stats\n",
    "Implement the function `print_stats` to print loss and validation accuracy.  Use the global variables `valid_features` and `valid_labels` to calculate validation accuracy.  Use a keep probability of `1.0` to calculate the loss and validation accuracy."
   ]
  },
  {
   "cell_type": "code",
   "execution_count": 14,
   "metadata": {
    "collapsed": true
   },
   "outputs": [],
   "source": [
    "def print_stats(session, feature_batch, label_batch, cost, accuracy):\n",
    "    \"\"\"\n",
    "    Print information about loss and validation accuracy\n",
    "    : session: Current TensorFlow session\n",
    "    : feature_batch: Batch of Numpy image data\n",
    "    : label_batch: Batch of Numpy label data\n",
    "    : cost: TensorFlow cost function\n",
    "    : accuracy: TensorFlow accuracy function\n",
    "    \"\"\"\n",
    "    # TODO: Implement Function\n",
    "    loss = session.run(cost, feed_dict={x:feature_batch, \n",
    "                                        y:label_batch,\n",
    "                                        keep_prob:1.0}) \n",
    "    acc = session.run(accuracy, \n",
    "                feed_dict={x:valid_features, \n",
    "                           y:valid_labels, \n",
    "                           keep_prob:1.0})\n",
    "    print('Loss={0} ValidationAccuracy={1}'.format(loss, acc))\n",
    "    # print(\"ValidationAccuracy={0}\".format(acc))\n",
    "    "
   ]
  },
  {
   "cell_type": "markdown",
   "metadata": {},
   "source": [
    "### Hyperparameters\n",
    "Tune the following parameters:\n",
    "* Set `epochs` to the number of iterations until the network stops learning or start overfitting\n",
    "* Set `batch_size` to the highest number that your machine has memory for.  Most people set them to common sizes of memory:\n",
    " * 64\n",
    " * 128\n",
    " * 256\n",
    " * ...\n",
    "* Set `keep_probability` to the probability of keeping a node using dropout"
   ]
  },
  {
   "cell_type": "code",
   "execution_count": 24,
   "metadata": {
    "collapsed": true
   },
   "outputs": [],
   "source": [
    "# TODO: Tune Parameters\n",
    "epochs = 35\n",
    "batch_size = 2048\n",
    "keep_probability = 0.9"
   ]
  },
  {
   "cell_type": "markdown",
   "metadata": {},
   "source": [
    "### Train on a Single CIFAR-10 Batch\n",
    "Instead of training the neural network on all the CIFAR-10 batches of data, let's use a single batch. This should save time while you iterate on the model to get a better accuracy.  Once the final validation accuracy is 50% or greater, run the model on all the data in the next section."
   ]
  },
  {
   "cell_type": "code",
   "execution_count": 25,
   "metadata": {},
   "outputs": [
    {
     "name": "stdout",
     "output_type": "stream",
     "text": [
      "Checking the Training on a Single Batch...\n",
      "Epoch  1, CIFAR-10 Batch 1:  Loss=3.814678430557251 ValidationAccuracy=0.17900000512599945\n",
      "Epoch  2, CIFAR-10 Batch 1:  Loss=2.183943271636963 ValidationAccuracy=0.20019999146461487\n",
      "Epoch  3, CIFAR-10 Batch 1:  Loss=2.1365458965301514 ValidationAccuracy=0.22859998047351837\n",
      "Epoch  4, CIFAR-10 Batch 1:  Loss=2.0603160858154297 ValidationAccuracy=0.227199986577034\n",
      "Epoch  5, CIFAR-10 Batch 1:  Loss=1.9540973901748657 ValidationAccuracy=0.2971999943256378\n",
      "Epoch  6, CIFAR-10 Batch 1:  Loss=1.83030366897583 ValidationAccuracy=0.32440000772476196\n",
      "Epoch  7, CIFAR-10 Batch 1:  Loss=1.7232273817062378 ValidationAccuracy=0.3649999797344208\n",
      "Epoch  8, CIFAR-10 Batch 1:  Loss=1.5903774499893188 ValidationAccuracy=0.3803999423980713\n",
      "Epoch  9, CIFAR-10 Batch 1:  Loss=1.4845197200775146 ValidationAccuracy=0.40560001134872437\n",
      "Epoch 10, CIFAR-10 Batch 1:  Loss=1.3893365859985352 ValidationAccuracy=0.41999995708465576\n",
      "Epoch 11, CIFAR-10 Batch 1:  Loss=1.2898988723754883 ValidationAccuracy=0.4351999759674072\n",
      "Epoch 12, CIFAR-10 Batch 1:  Loss=1.2030677795410156 ValidationAccuracy=0.44599997997283936\n",
      "Epoch 13, CIFAR-10 Batch 1:  Loss=1.1179780960083008 ValidationAccuracy=0.46279996633529663\n",
      "Epoch 14, CIFAR-10 Batch 1:  Loss=1.0300815105438232 ValidationAccuracy=0.4713999330997467\n",
      "Epoch 15, CIFAR-10 Batch 1:  Loss=0.9544321298599243 ValidationAccuracy=0.4757999777793884\n",
      "Epoch 16, CIFAR-10 Batch 1:  Loss=0.8770166039466858 ValidationAccuracy=0.4801999628543854\n",
      "Epoch 17, CIFAR-10 Batch 1:  Loss=0.8067970871925354 ValidationAccuracy=0.4877999424934387\n",
      "Epoch 18, CIFAR-10 Batch 1:  Loss=0.738705575466156 ValidationAccuracy=0.49359995126724243\n",
      "Epoch 19, CIFAR-10 Batch 1:  Loss=0.6732591390609741 ValidationAccuracy=0.4935999810695648\n",
      "Epoch 20, CIFAR-10 Batch 1:  Loss=0.6263164281845093 ValidationAccuracy=0.488199919462204\n",
      "Epoch 21, CIFAR-10 Batch 1:  Loss=0.5682416558265686 ValidationAccuracy=0.49219995737075806\n",
      "Epoch 22, CIFAR-10 Batch 1:  Loss=0.510277271270752 ValidationAccuracy=0.4999999403953552\n",
      "Epoch 23, CIFAR-10 Batch 1:  Loss=0.46135661005973816 ValidationAccuracy=0.5047999024391174\n",
      "Epoch 24, CIFAR-10 Batch 1:  Loss=0.4262647330760956 ValidationAccuracy=0.4995999336242676\n",
      "Epoch 25, CIFAR-10 Batch 1:  Loss=0.3933546543121338 ValidationAccuracy=0.49599993228912354\n",
      "Epoch 26, CIFAR-10 Batch 1:  Loss=0.3568430244922638 ValidationAccuracy=0.5001999139785767\n",
      "Epoch 27, CIFAR-10 Batch 1:  Loss=0.3309061825275421 ValidationAccuracy=0.49479997158050537\n",
      "Epoch 28, CIFAR-10 Batch 1:  Loss=0.30775925517082214 ValidationAccuracy=0.4893999695777893\n",
      "Epoch 29, CIFAR-10 Batch 1:  Loss=0.2742367386817932 ValidationAccuracy=0.49599993228912354\n",
      "Epoch 30, CIFAR-10 Batch 1:  Loss=0.2531607747077942 ValidationAccuracy=0.4943999648094177\n",
      "Epoch 31, CIFAR-10 Batch 1:  Loss=0.21701861917972565 ValidationAccuracy=0.5047999620437622\n",
      "Epoch 32, CIFAR-10 Batch 1:  Loss=0.19610553979873657 ValidationAccuracy=0.5119999647140503\n",
      "Epoch 33, CIFAR-10 Batch 1:  Loss=0.17554058134555817 ValidationAccuracy=0.5043999552726746\n",
      "Epoch 34, CIFAR-10 Batch 1:  Loss=0.1620797961950302 ValidationAccuracy=0.5011999011039734\n",
      "Epoch 35, CIFAR-10 Batch 1:  Loss=0.15821857750415802 ValidationAccuracy=0.502799928188324\n"
     ]
    }
   ],
   "source": [
    "\"\"\"\n",
    "DON'T MODIFY ANYTHING IN THIS CELL\n",
    "\"\"\"\n",
    "print('Checking the Training on a Single Batch...')\n",
    "with tf.Session() as sess:\n",
    "    # Initializing the variables\n",
    "    sess.run(tf.global_variables_initializer())\n",
    "    \n",
    "    # Training cycle\n",
    "    for epoch in range(epochs):\n",
    "        batch_i = 1\n",
    "        for batch_features, batch_labels in helper.load_preprocess_training_batch(batch_i, batch_size):\n",
    "            train_neural_network(sess, optimizer, keep_probability, batch_features, batch_labels)\n",
    "        print('Epoch {:>2}, CIFAR-10 Batch {}:  '.format(epoch + 1, batch_i), end='')\n",
    "        print_stats(sess, batch_features, batch_labels, cost, accuracy)"
   ]
  },
  {
   "cell_type": "markdown",
   "metadata": {},
   "source": [
    "### Fully Train the Model\n",
    "Now that you got a good accuracy with a single CIFAR-10 batch, try it with all five batches."
   ]
  },
  {
   "cell_type": "code",
   "execution_count": 30,
   "metadata": {},
   "outputs": [
    {
     "name": "stdout",
     "output_type": "stream",
     "text": [
      "Training...\n",
      "Epoch  1, CIFAR-10 Batch 1:  Loss=4.664200305938721 ValidationAccuracy=0.15540000796318054\n",
      "Epoch  1, CIFAR-10 Batch 2:  Loss=2.4842097759246826 ValidationAccuracy=0.1483999788761139\n",
      "Epoch  1, CIFAR-10 Batch 3:  Loss=2.180142879486084 ValidationAccuracy=0.21279998123645782\n",
      "Epoch  1, CIFAR-10 Batch 4:  Loss=2.0485305786132812 ValidationAccuracy=0.25999999046325684\n",
      "Epoch  1, CIFAR-10 Batch 5:  Loss=1.9630773067474365 ValidationAccuracy=0.2995999753475189\n",
      "Epoch  2, CIFAR-10 Batch 1:  Loss=1.8865352869033813 ValidationAccuracy=0.3393999934196472\n",
      "Epoch  2, CIFAR-10 Batch 2:  Loss=1.8021315336227417 ValidationAccuracy=0.35179996490478516\n",
      "Epoch  2, CIFAR-10 Batch 3:  Loss=1.7161977291107178 ValidationAccuracy=0.36899998784065247\n",
      "Epoch  2, CIFAR-10 Batch 4:  Loss=1.6547143459320068 ValidationAccuracy=0.38760000467300415\n",
      "Epoch  2, CIFAR-10 Batch 5:  Loss=1.6603337526321411 ValidationAccuracy=0.39480000734329224\n",
      "Epoch  3, CIFAR-10 Batch 1:  Loss=1.588753581047058 ValidationAccuracy=0.4169999659061432\n",
      "Epoch  3, CIFAR-10 Batch 2:  Loss=1.552266001701355 ValidationAccuracy=0.42579999566078186\n",
      "Epoch  3, CIFAR-10 Batch 3:  Loss=1.4794561862945557 ValidationAccuracy=0.43879997730255127\n",
      "Epoch  3, CIFAR-10 Batch 4:  Loss=1.4514588117599487 ValidationAccuracy=0.45179998874664307\n",
      "Epoch  3, CIFAR-10 Batch 5:  Loss=1.475905179977417 ValidationAccuracy=0.4525999426841736\n",
      "Epoch  4, CIFAR-10 Batch 1:  Loss=1.4154343605041504 ValidationAccuracy=0.4671999216079712\n",
      "Epoch  4, CIFAR-10 Batch 2:  Loss=1.396472692489624 ValidationAccuracy=0.46539998054504395\n",
      "Epoch  4, CIFAR-10 Batch 3:  Loss=1.3288748264312744 ValidationAccuracy=0.4777999520301819\n",
      "Epoch  4, CIFAR-10 Batch 4:  Loss=1.316713571548462 ValidationAccuracy=0.480199933052063\n",
      "Epoch  4, CIFAR-10 Batch 5:  Loss=1.341787576675415 ValidationAccuracy=0.48579996824264526\n",
      "Epoch  5, CIFAR-10 Batch 1:  Loss=1.2895169258117676 ValidationAccuracy=0.4959999620914459\n",
      "Epoch  5, CIFAR-10 Batch 2:  Loss=1.276005506515503 ValidationAccuracy=0.4875999689102173\n",
      "Epoch  5, CIFAR-10 Batch 3:  Loss=1.2029471397399902 ValidationAccuracy=0.504599928855896\n",
      "Epoch  5, CIFAR-10 Batch 4:  Loss=1.187145471572876 ValidationAccuracy=0.5033999085426331\n",
      "Epoch  5, CIFAR-10 Batch 5:  Loss=1.2058591842651367 ValidationAccuracy=0.5101999640464783\n",
      "Epoch  6, CIFAR-10 Batch 1:  Loss=1.172953486442566 ValidationAccuracy=0.5149999856948853\n",
      "Epoch  6, CIFAR-10 Batch 2:  Loss=1.1693872213363647 ValidationAccuracy=0.512999951839447\n",
      "Epoch  6, CIFAR-10 Batch 3:  Loss=1.0934035778045654 ValidationAccuracy=0.5173999667167664\n",
      "Epoch  6, CIFAR-10 Batch 4:  Loss=1.0869405269622803 ValidationAccuracy=0.5219999551773071\n",
      "Epoch  6, CIFAR-10 Batch 5:  Loss=1.0877621173858643 ValidationAccuracy=0.5283999443054199\n",
      "Epoch  7, CIFAR-10 Batch 1:  Loss=1.08467435836792 ValidationAccuracy=0.5353999733924866\n",
      "Epoch  7, CIFAR-10 Batch 2:  Loss=1.071009874343872 ValidationAccuracy=0.5285999774932861\n",
      "Epoch  7, CIFAR-10 Batch 3:  Loss=1.0155853033065796 ValidationAccuracy=0.5305999517440796\n",
      "Epoch  7, CIFAR-10 Batch 4:  Loss=0.9931397438049316 ValidationAccuracy=0.539199948310852\n",
      "Epoch  7, CIFAR-10 Batch 5:  Loss=0.9964524507522583 ValidationAccuracy=0.5371999740600586\n",
      "Epoch  8, CIFAR-10 Batch 1:  Loss=1.009172797203064 ValidationAccuracy=0.5469999313354492\n",
      "Epoch  8, CIFAR-10 Batch 2:  Loss=1.0044772624969482 ValidationAccuracy=0.5338000059127808\n",
      "Epoch  8, CIFAR-10 Batch 3:  Loss=0.9480013251304626 ValidationAccuracy=0.5447999238967896\n",
      "Epoch  8, CIFAR-10 Batch 4:  Loss=0.9363121390342712 ValidationAccuracy=0.5405999422073364\n",
      "Epoch  8, CIFAR-10 Batch 5:  Loss=0.9412795305252075 ValidationAccuracy=0.543199896812439\n",
      "Epoch  9, CIFAR-10 Batch 1:  Loss=0.948175311088562 ValidationAccuracy=0.5535999536514282\n",
      "Epoch  9, CIFAR-10 Batch 2:  Loss=0.9335507154464722 ValidationAccuracy=0.5417999029159546\n",
      "Epoch  9, CIFAR-10 Batch 3:  Loss=0.8733542561531067 ValidationAccuracy=0.5519999265670776\n",
      "Epoch  9, CIFAR-10 Batch 4:  Loss=0.8618085980415344 ValidationAccuracy=0.5577999353408813\n",
      "Epoch  9, CIFAR-10 Batch 5:  Loss=0.846028745174408 ValidationAccuracy=0.5509999394416809\n",
      "Epoch 10, CIFAR-10 Batch 1:  Loss=0.8607936501502991 ValidationAccuracy=0.5561999082565308\n",
      "Epoch 10, CIFAR-10 Batch 2:  Loss=0.8432925939559937 ValidationAccuracy=0.5637999176979065\n",
      "Epoch 10, CIFAR-10 Batch 3:  Loss=0.7814410924911499 ValidationAccuracy=0.561199963092804\n",
      "Epoch 10, CIFAR-10 Batch 4:  Loss=0.784376859664917 ValidationAccuracy=0.5649999380111694\n",
      "Epoch 10, CIFAR-10 Batch 5:  Loss=0.7763461470603943 ValidationAccuracy=0.5645999908447266\n",
      "Epoch 11, CIFAR-10 Batch 1:  Loss=0.7922569513320923 ValidationAccuracy=0.5737999081611633\n",
      "Epoch 11, CIFAR-10 Batch 2:  Loss=0.7670743465423584 ValidationAccuracy=0.5671998858451843\n",
      "Epoch 11, CIFAR-10 Batch 3:  Loss=0.7187796831130981 ValidationAccuracy=0.5679999589920044\n",
      "Epoch 11, CIFAR-10 Batch 4:  Loss=0.7096914052963257 ValidationAccuracy=0.5723999738693237\n",
      "Epoch 11, CIFAR-10 Batch 5:  Loss=0.6983922719955444 ValidationAccuracy=0.5669999718666077\n",
      "Epoch 12, CIFAR-10 Batch 1:  Loss=0.7186132073402405 ValidationAccuracy=0.578999936580658\n",
      "Epoch 12, CIFAR-10 Batch 2:  Loss=0.7034969329833984 ValidationAccuracy=0.5769999027252197\n",
      "Epoch 12, CIFAR-10 Batch 3:  Loss=0.6533383727073669 ValidationAccuracy=0.5719999670982361\n",
      "Epoch 12, CIFAR-10 Batch 4:  Loss=0.6523638963699341 ValidationAccuracy=0.5753999352455139\n",
      "Epoch 12, CIFAR-10 Batch 5:  Loss=0.6359825730323792 ValidationAccuracy=0.5709999203681946\n",
      "Epoch 13, CIFAR-10 Batch 1:  Loss=0.6505570411682129 ValidationAccuracy=0.5859999060630798\n",
      "Epoch 13, CIFAR-10 Batch 2:  Loss=0.647402286529541 ValidationAccuracy=0.5821999311447144\n",
      "Epoch 13, CIFAR-10 Batch 3:  Loss=0.5975967049598694 ValidationAccuracy=0.5783998966217041\n",
      "Epoch 13, CIFAR-10 Batch 4:  Loss=0.5851352214813232 ValidationAccuracy=0.5809999704360962\n",
      "Epoch 13, CIFAR-10 Batch 5:  Loss=0.573175847530365 ValidationAccuracy=0.5773999691009521\n",
      "Epoch 14, CIFAR-10 Batch 1:  Loss=0.5992304086685181 ValidationAccuracy=0.5913999080657959\n",
      "Epoch 14, CIFAR-10 Batch 2:  Loss=0.5981001853942871 ValidationAccuracy=0.5809999108314514\n",
      "Epoch 14, CIFAR-10 Batch 3:  Loss=0.5440901517868042 ValidationAccuracy=0.5849999189376831\n",
      "Epoch 14, CIFAR-10 Batch 4:  Loss=0.5292761325836182 ValidationAccuracy=0.586199939250946\n",
      "Epoch 14, CIFAR-10 Batch 5:  Loss=0.5244124531745911 ValidationAccuracy=0.5797998905181885\n",
      "Epoch 15, CIFAR-10 Batch 1:  Loss=0.550583004951477 ValidationAccuracy=0.5967998504638672\n",
      "Epoch 15, CIFAR-10 Batch 2:  Loss=0.5368030071258545 ValidationAccuracy=0.58899986743927\n",
      "Epoch 15, CIFAR-10 Batch 3:  Loss=0.49060487747192383 ValidationAccuracy=0.5891999006271362\n",
      "Epoch 15, CIFAR-10 Batch 4:  Loss=0.46848180890083313 ValidationAccuracy=0.5895999073982239\n",
      "Epoch 15, CIFAR-10 Batch 5:  Loss=0.4642601013183594 ValidationAccuracy=0.5895999073982239\n",
      "Epoch 16, CIFAR-10 Batch 1:  Loss=0.48029762506484985 ValidationAccuracy=0.6005999445915222\n",
      "Epoch 16, CIFAR-10 Batch 2:  Loss=0.48781901597976685 ValidationAccuracy=0.5957999229431152\n",
      "Epoch 16, CIFAR-10 Batch 3:  Loss=0.4335670471191406 ValidationAccuracy=0.5951998829841614\n",
      "Epoch 16, CIFAR-10 Batch 4:  Loss=0.41811108589172363 ValidationAccuracy=0.5987998843193054\n",
      "Epoch 16, CIFAR-10 Batch 5:  Loss=0.41199353337287903 ValidationAccuracy=0.5911999940872192\n",
      "Epoch 17, CIFAR-10 Batch 1:  Loss=0.42961305379867554 ValidationAccuracy=0.6019998788833618\n",
      "Epoch 17, CIFAR-10 Batch 2:  Loss=0.4444722831249237 ValidationAccuracy=0.5991998910903931\n",
      "Epoch 17, CIFAR-10 Batch 3:  Loss=0.3869727849960327 ValidationAccuracy=0.596799910068512\n",
      "Epoch 17, CIFAR-10 Batch 4:  Loss=0.38400545716285706 ValidationAccuracy=0.5929999351501465\n",
      "Epoch 17, CIFAR-10 Batch 5:  Loss=0.37672558426856995 ValidationAccuracy=0.595599889755249\n",
      "Epoch 18, CIFAR-10 Batch 1:  Loss=0.3955126404762268 ValidationAccuracy=0.6073998808860779\n",
      "Epoch 18, CIFAR-10 Batch 2:  Loss=0.40997540950775146 ValidationAccuracy=0.5999998450279236\n",
      "Epoch 18, CIFAR-10 Batch 3:  Loss=0.3585977554321289 ValidationAccuracy=0.5977998971939087\n",
      "Epoch 18, CIFAR-10 Batch 4:  Loss=0.33585667610168457 ValidationAccuracy=0.6009999513626099\n",
      "Epoch 18, CIFAR-10 Batch 5:  Loss=0.33982017636299133 ValidationAccuracy=0.5885999202728271\n"
     ]
    },
    {
     "name": "stdout",
     "output_type": "stream",
     "text": [
      "Epoch 19, CIFAR-10 Batch 1:  Loss=0.35661694407463074 ValidationAccuracy=0.6011999845504761\n",
      "Epoch 19, CIFAR-10 Batch 2:  Loss=0.3762824535369873 ValidationAccuracy=0.6017999053001404\n",
      "Epoch 19, CIFAR-10 Batch 3:  Loss=0.33875927329063416 ValidationAccuracy=0.596799910068512\n",
      "Epoch 19, CIFAR-10 Batch 4:  Loss=0.30436021089553833 ValidationAccuracy=0.6049998998641968\n",
      "Epoch 19, CIFAR-10 Batch 5:  Loss=0.30911535024642944 ValidationAccuracy=0.5977998971939087\n",
      "Epoch 20, CIFAR-10 Batch 1:  Loss=0.3197307288646698 ValidationAccuracy=0.6031998991966248\n",
      "Epoch 20, CIFAR-10 Batch 2:  Loss=0.3406757414340973 ValidationAccuracy=0.5987999439239502\n",
      "Epoch 20, CIFAR-10 Batch 3:  Loss=0.29581311345100403 ValidationAccuracy=0.5967998504638672\n",
      "Epoch 20, CIFAR-10 Batch 4:  Loss=0.28272098302841187 ValidationAccuracy=0.5965999364852905\n",
      "Epoch 20, CIFAR-10 Batch 5:  Loss=0.31720519065856934 ValidationAccuracy=0.5839999318122864\n",
      "Epoch 21, CIFAR-10 Batch 1:  Loss=0.3750170171260834 ValidationAccuracy=0.5685999393463135\n",
      "Epoch 21, CIFAR-10 Batch 2:  Loss=0.3496057093143463 ValidationAccuracy=0.5881998538970947\n",
      "Epoch 21, CIFAR-10 Batch 3:  Loss=0.3175327181816101 ValidationAccuracy=0.5907999277114868\n",
      "Epoch 21, CIFAR-10 Batch 4:  Loss=0.28509050607681274 ValidationAccuracy=0.5859998464584351\n",
      "Epoch 21, CIFAR-10 Batch 5:  Loss=0.29254603385925293 ValidationAccuracy=0.5907999277114868\n",
      "Epoch 22, CIFAR-10 Batch 1:  Loss=0.29830458760261536 ValidationAccuracy=0.5983999371528625\n",
      "Epoch 22, CIFAR-10 Batch 2:  Loss=0.33690503239631653 ValidationAccuracy=0.5839999318122864\n",
      "Epoch 22, CIFAR-10 Batch 3:  Loss=0.2669680714607239 ValidationAccuracy=0.6001998782157898\n",
      "Epoch 22, CIFAR-10 Batch 4:  Loss=0.2524300515651703 ValidationAccuracy=0.5891999006271362\n",
      "Epoch 22, CIFAR-10 Batch 5:  Loss=0.27686363458633423 ValidationAccuracy=0.5851999521255493\n",
      "Epoch 23, CIFAR-10 Batch 1:  Loss=0.24958421289920807 ValidationAccuracy=0.6049998998641968\n",
      "Epoch 23, CIFAR-10 Batch 2:  Loss=0.2857706844806671 ValidationAccuracy=0.5945999026298523\n",
      "Epoch 23, CIFAR-10 Batch 3:  Loss=0.2606324255466461 ValidationAccuracy=0.5947998762130737\n",
      "Epoch 23, CIFAR-10 Batch 4:  Loss=0.24336159229278564 ValidationAccuracy=0.5805999040603638\n",
      "Epoch 23, CIFAR-10 Batch 5:  Loss=0.24548128247261047 ValidationAccuracy=0.5943999290466309\n",
      "Epoch 24, CIFAR-10 Batch 1:  Loss=0.2588726878166199 ValidationAccuracy=0.5823999643325806\n",
      "Epoch 24, CIFAR-10 Batch 2:  Loss=0.2551190257072449 ValidationAccuracy=0.5981999039649963\n",
      "Epoch 24, CIFAR-10 Batch 3:  Loss=0.22271394729614258 ValidationAccuracy=0.5969999432563782\n",
      "Epoch 24, CIFAR-10 Batch 4:  Loss=0.216527059674263 ValidationAccuracy=0.5939999222755432\n",
      "Epoch 24, CIFAR-10 Batch 5:  Loss=0.24849152565002441 ValidationAccuracy=0.5821999311447144\n",
      "Epoch 25, CIFAR-10 Batch 1:  Loss=0.22895412147045135 ValidationAccuracy=0.5867999196052551\n",
      "Epoch 25, CIFAR-10 Batch 2:  Loss=0.26179349422454834 ValidationAccuracy=0.5805999040603638\n",
      "Epoch 25, CIFAR-10 Batch 3:  Loss=0.2271396368741989 ValidationAccuracy=0.5937999486923218\n",
      "Epoch 25, CIFAR-10 Batch 4:  Loss=0.21472632884979248 ValidationAccuracy=0.596799910068512\n",
      "Epoch 25, CIFAR-10 Batch 5:  Loss=0.22909173369407654 ValidationAccuracy=0.5913999676704407\n",
      "Epoch 26, CIFAR-10 Batch 1:  Loss=0.20967456698417664 ValidationAccuracy=0.597599983215332\n",
      "Epoch 26, CIFAR-10 Batch 2:  Loss=0.27069002389907837 ValidationAccuracy=0.5721999406814575\n",
      "Epoch 26, CIFAR-10 Batch 3:  Loss=0.21844908595085144 ValidationAccuracy=0.6041999459266663\n",
      "Epoch 26, CIFAR-10 Batch 4:  Loss=0.18408247828483582 ValidationAccuracy=0.6047999858856201\n",
      "Epoch 26, CIFAR-10 Batch 5:  Loss=0.1907443106174469 ValidationAccuracy=0.6071999073028564\n",
      "Epoch 27, CIFAR-10 Batch 1:  Loss=0.20082557201385498 ValidationAccuracy=0.6009999513626099\n",
      "Epoch 27, CIFAR-10 Batch 2:  Loss=0.21792151033878326 ValidationAccuracy=0.5885999202728271\n",
      "Epoch 27, CIFAR-10 Batch 3:  Loss=0.21589502692222595 ValidationAccuracy=0.6007999181747437\n",
      "Epoch 27, CIFAR-10 Batch 4:  Loss=0.20362213253974915 ValidationAccuracy=0.5875999331474304\n",
      "Epoch 27, CIFAR-10 Batch 5:  Loss=0.19084782898426056 ValidationAccuracy=0.600399911403656\n",
      "Epoch 28, CIFAR-10 Batch 1:  Loss=0.1878448724746704 ValidationAccuracy=0.6113998889923096\n",
      "Epoch 28, CIFAR-10 Batch 2:  Loss=0.2103811353445053 ValidationAccuracy=0.6055999398231506\n",
      "Epoch 28, CIFAR-10 Batch 3:  Loss=0.17573566734790802 ValidationAccuracy=0.6077998876571655\n",
      "Epoch 28, CIFAR-10 Batch 4:  Loss=0.15535852313041687 ValidationAccuracy=0.5935999155044556\n",
      "Epoch 28, CIFAR-10 Batch 5:  Loss=0.18543033301830292 ValidationAccuracy=0.5961999297142029\n",
      "Epoch 29, CIFAR-10 Batch 1:  Loss=0.18518775701522827 ValidationAccuracy=0.6017999053001404\n",
      "Epoch 29, CIFAR-10 Batch 2:  Loss=0.1727471947669983 ValidationAccuracy=0.6095999479293823\n",
      "Epoch 29, CIFAR-10 Batch 3:  Loss=0.17174872756004333 ValidationAccuracy=0.6025999188423157\n",
      "Epoch 29, CIFAR-10 Batch 4:  Loss=0.15305060148239136 ValidationAccuracy=0.5907999277114868\n",
      "Epoch 29, CIFAR-10 Batch 5:  Loss=0.1696772575378418 ValidationAccuracy=0.5877998471260071\n",
      "Epoch 30, CIFAR-10 Batch 1:  Loss=0.15276862680912018 ValidationAccuracy=0.6007999181747437\n",
      "Epoch 30, CIFAR-10 Batch 2:  Loss=0.15434260666370392 ValidationAccuracy=0.6037998795509338\n",
      "Epoch 30, CIFAR-10 Batch 3:  Loss=0.1283968836069107 ValidationAccuracy=0.6141998767852783\n",
      "Epoch 30, CIFAR-10 Batch 4:  Loss=0.12014254182577133 ValidationAccuracy=0.6073998808860779\n",
      "Epoch 30, CIFAR-10 Batch 5:  Loss=0.13161146640777588 ValidationAccuracy=0.5933999419212341\n",
      "Epoch 31, CIFAR-10 Batch 1:  Loss=0.13871800899505615 ValidationAccuracy=0.59579998254776\n",
      "Epoch 31, CIFAR-10 Batch 2:  Loss=0.13724663853645325 ValidationAccuracy=0.6019998788833618\n",
      "Epoch 31, CIFAR-10 Batch 3:  Loss=0.1188066154718399 ValidationAccuracy=0.6081998944282532\n",
      "Epoch 31, CIFAR-10 Batch 4:  Loss=0.1122068539261818 ValidationAccuracy=0.6075999140739441\n",
      "Epoch 31, CIFAR-10 Batch 5:  Loss=0.11806004494428635 ValidationAccuracy=0.5977998971939087\n",
      "Epoch 32, CIFAR-10 Batch 1:  Loss=0.13089270889759064 ValidationAccuracy=0.593799889087677\n",
      "Epoch 32, CIFAR-10 Batch 2:  Loss=0.13847729563713074 ValidationAccuracy=0.5939998626708984\n",
      "Epoch 32, CIFAR-10 Batch 3:  Loss=0.12853850424289703 ValidationAccuracy=0.5937999486923218\n",
      "Epoch 32, CIFAR-10 Batch 4:  Loss=0.11838743835687637 ValidationAccuracy=0.5995999574661255\n",
      "Epoch 32, CIFAR-10 Batch 5:  Loss=0.10434477776288986 ValidationAccuracy=0.6089998483657837\n",
      "Epoch 33, CIFAR-10 Batch 1:  Loss=0.1293078064918518 ValidationAccuracy=0.6009998917579651\n",
      "Epoch 33, CIFAR-10 Batch 2:  Loss=0.1327817291021347 ValidationAccuracy=0.6009998917579651\n",
      "Epoch 33, CIFAR-10 Batch 3:  Loss=0.12460710108280182 ValidationAccuracy=0.6009998917579651\n",
      "Epoch 33, CIFAR-10 Batch 4:  Loss=0.11505761742591858 ValidationAccuracy=0.5963999629020691\n",
      "Epoch 33, CIFAR-10 Batch 5:  Loss=0.12501174211502075 ValidationAccuracy=0.5923999547958374\n",
      "Epoch 34, CIFAR-10 Batch 1:  Loss=0.14618225395679474 ValidationAccuracy=0.5793999433517456\n",
      "Epoch 34, CIFAR-10 Batch 2:  Loss=0.15002301335334778 ValidationAccuracy=0.590799868106842\n",
      "Epoch 34, CIFAR-10 Batch 3:  Loss=0.11314098536968231 ValidationAccuracy=0.6069998741149902\n",
      "Epoch 34, CIFAR-10 Batch 4:  Loss=0.09541291743516922 ValidationAccuracy=0.6047999262809753\n",
      "Epoch 34, CIFAR-10 Batch 5:  Loss=0.13603881001472473 ValidationAccuracy=0.5867999196052551\n",
      "Epoch 35, CIFAR-10 Batch 1:  Loss=0.12210705876350403 ValidationAccuracy=0.5941999554634094\n",
      "Epoch 35, CIFAR-10 Batch 2:  Loss=0.12051931023597717 ValidationAccuracy=0.6055999398231506\n",
      "Epoch 35, CIFAR-10 Batch 3:  Loss=0.08977607637643814 ValidationAccuracy=0.6089998483657837\n",
      "Epoch 35, CIFAR-10 Batch 4:  Loss=0.10930947214365005 ValidationAccuracy=0.5953999161720276\n",
      "Epoch 35, CIFAR-10 Batch 5:  Loss=0.11980760097503662 ValidationAccuracy=0.5943998694419861\n"
     ]
    }
   ],
   "source": [
    "\"\"\"\n",
    "DON'T MODIFY ANYTHING IN THIS CELL\n",
    "\"\"\"\n",
    "save_model_path = './image_classification'\n",
    "\n",
    "print('Training...')\n",
    "with tf.Session() as sess:\n",
    "    # Initializing the variables\n",
    "    sess.run(tf.global_variables_initializer())\n",
    "    \n",
    "    # Training cycle\n",
    "    for epoch in range(epochs):\n",
    "        # Loop over all batches\n",
    "        n_batches = 5\n",
    "        for batch_i in range(1, n_batches + 1):\n",
    "            for batch_features, batch_labels in helper.load_preprocess_training_batch(batch_i, batch_size):\n",
    "                train_neural_network(sess, optimizer, keep_probability, batch_features, batch_labels)\n",
    "            print('Epoch {:>2}, CIFAR-10 Batch {}:  '.format(epoch + 1, batch_i), end='')\n",
    "            print_stats(sess, batch_features, batch_labels, cost, accuracy)\n",
    "            \n",
    "    # Save Model\n",
    "    saver = tf.train.Saver()\n",
    "    save_path = saver.save(sess, save_model_path)"
   ]
  },
  {
   "cell_type": "markdown",
   "metadata": {},
   "source": [
    "# Checkpoint\n",
    "The model has been saved to disk.\n",
    "## Test Model\n",
    "Test your model against the test dataset.  This will be your final accuracy. You should have an accuracy greater than 50%. If you don't, keep tweaking the model architecture and parameters."
   ]
  },
  {
   "cell_type": "code",
   "execution_count": 31,
   "metadata": {},
   "outputs": [
    {
     "name": "stdout",
     "output_type": "stream",
     "text": [
      "INFO:tensorflow:Restoring parameters from ./image_classification\n",
      "Testing Accuracy: 0.5870212197303772\n",
      "\n"
     ]
    },
    {
     "data": {
      "image/png": "[encoded data removed]",
      "text/plain": [
       "<matplotlib.figure.Figure at 0x7fb134591c18>"
      ]
     },
     "metadata": {
      "image/png": {
       "height": 319,
       "width": 355
      }
     },
     "output_type": "display_data"
    }
   ],
   "source": [
    "\"\"\"\n",
    "DON'T MODIFY ANYTHING IN THIS CELL\n",
    "\"\"\"\n",
    "%matplotlib inline\n",
    "%config InlineBackend.figure_format = 'retina'\n",
    "\n",
    "import tensorflow as tf\n",
    "import pickle\n",
    "import helper\n",
    "import random\n",
    "\n",
    "# Set batch size if not already set\n",
    "try:\n",
    "    if batch_size:\n",
    "        pass\n",
    "except NameError:\n",
    "    batch_size = 64\n",
    "\n",
    "save_model_path = './image_classification'\n",
    "n_samples = 4\n",
    "top_n_predictions = 3\n",
    "\n",
    "def test_model():\n",
    "    \"\"\"\n",
    "    Test the saved model against the test dataset\n",
    "    \"\"\"\n",
    "\n",
    "    test_features, test_labels = pickle.load(open('preprocess_test.p', mode='rb'))\n",
    "    loaded_graph = tf.Graph()\n",
    "\n",
    "    with tf.Session(graph=loaded_graph) as sess:\n",
    "        # Load model\n",
    "        loader = tf.train.import_meta_graph(save_model_path + '.meta')\n",
    "        loader.restore(sess, save_model_path)\n",
    "\n",
    "        # Get Tensors from loaded model\n",
    "        loaded_x = loaded_graph.get_tensor_by_name('x:0')\n",
    "        loaded_y = loaded_graph.get_tensor_by_name('y:0')\n",
    "        loaded_keep_prob = loaded_graph.get_tensor_by_name('keep_prob:0')\n",
    "        loaded_logits = loaded_graph.get_tensor_by_name('logits:0')\n",
    "        loaded_acc = loaded_graph.get_tensor_by_name('accuracy:0')\n",
    "        \n",
    "        # Get accuracy in batches for memory limitations\n",
    "        test_batch_acc_total = 0\n",
    "        test_batch_count = 0\n",
    "        \n",
    "        for train_feature_batch, train_label_batch in helper.batch_features_labels(test_features, test_labels, batch_size):\n",
    "            test_batch_acc_total += sess.run(\n",
    "                loaded_acc,\n",
    "                feed_dict={loaded_x: train_feature_batch, loaded_y: train_label_batch, loaded_keep_prob: 1.0})\n",
    "            test_batch_count += 1\n",
    "\n",
    "        print('Testing Accuracy: {}\\n'.format(test_batch_acc_total/test_batch_count))\n",
    "\n",
    "        # Print Random Samples\n",
    "        random_test_features, random_test_labels = tuple(zip(*random.sample(list(zip(test_features, test_labels)), n_samples)))\n",
    "        random_test_predictions = sess.run(\n",
    "            tf.nn.top_k(tf.nn.softmax(loaded_logits), top_n_predictions),\n",
    "            feed_dict={loaded_x: random_test_features, loaded_y: random_test_labels, loaded_keep_prob: 1.0})\n",
    "        helper.display_image_predictions(random_test_features, random_test_labels, random_test_predictions)\n",
    "\n",
    "\n",
    "test_model()"
   ]
  },
  {
   "cell_type": "markdown",
   "metadata": {},
   "source": [
    "## Why 50-70% Accuracy?\n",
    "You might be wondering why you can't get an accuracy any higher. First things first, 50% isn't bad for a simple CNN.  Pure guessing would get you 10% accuracy. However, you might notice people are getting scores [well above 70%](http://rodrigob.github.io/are_we_there_yet/build/classification_datasets_results.html#43494641522d3130).  That's because we haven't taught you all there is to know about neural networks. We still need to cover a few more techniques.\n",
    "## Submitting This Project\n",
    "When submitting this project, make sure to run all the cells before saving the notebook.  Save the notebook file as \"dlnd_image_classification.ipynb\" and save it as a HTML file under \"File\" -> \"Download as\".  Include the \"helper.py\" and \"problem_unittests.py\" files in your submission."
   ]
  }
 ],
 "metadata": {
  "anaconda-cloud": {},
  "kernelspec": {
   "display_name": "Python [default]",
   "language": "python",
   "name": "python3"
  },
  "language_info": {
   "codemirror_mode": {
    "name": "ipython",
    "version": 3
   },
   "file_extension": ".py",
   "mimetype": "text/x-python",
   "name": "python",
   "nbconvert_exporter": "python",
   "pygments_lexer": "ipython3",
   "version": "3.5.3"
  },
  "widgets": {
   "state": {},
   "version": "1.1.2"
  }
 },
 "nbformat": 4,
 "nbformat_minor": 1
}
